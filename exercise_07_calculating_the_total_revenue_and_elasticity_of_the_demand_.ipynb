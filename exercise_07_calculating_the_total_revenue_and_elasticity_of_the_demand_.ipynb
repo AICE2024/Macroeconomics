{
  "cells": [
    {
      "cell_type": "markdown",
      "metadata": {
        "id": "view-in-github",
        "colab_type": "text"
      },
      "source": [
        "<a href=\"https://colab.research.google.com/github/AICE2024/Macroeconomics/blob/main/exercise_07_calculating_the_total_revenue_and_elasticity_of_the_demand_.ipynb\" target=\"_parent\"><img src=\"https://colab.research.google.com/assets/colab-badge.svg\" alt=\"Open In Colab\"/></a>"
      ]
    },
    {
      "cell_type": "markdown",
      "metadata": {
        "id": "1KeUUJheu2lg"
      },
      "source": [
        "# Exercise04_Home: Calculating the Total Revenue and Elasticity\n",
        "*   Click the little 'PLAY' icon below!\n",
        "*   Wait\n",
        "*   Enter your 8-digit student ID in the box provided to solve the problem.\n",
        "\n"
      ]
    },
    {
      "cell_type": "code",
      "execution_count": null,
      "metadata": {
        "cellView": "form",
        "colab": {
          "background_save": true,
          "base_uri": "https://localhost:8080/"
        },
        "id": "J2AODwGEuk0e",
        "outputId": "7f09309d-515c-4fc1-ee07-b6adf37239ae"
      },
      "outputs": [
        {
          "name": "stdout",
          "output_type": "stream",
          "text": [
            "\n",
            "The formula of demand: Qd = 117 - 2*13\n",
            "\n",
            "Total Revenue TR = 1,183\n",
            "New Total Revenue TRn = 1,521\n",
            "\n",
            "Elasticity of demand by % change method Edp = 0.29\n",
            "Elasticity of demand by midpoint method Edm = 0.38\n",
            "\n",
            "The elasticity of demand by midpoint method is inelastic.\n"
          ]
        }
      ],
      "source": [
        "# @title 'PLAY' icon here below\n",
        "# @title 'PLAY' icon here below\n",
        "def get_student_id():\n",
        "    while True:\n",
        "        attempts = 0\n",
        "        while attempts < 3:\n",
        "            student_id = input(\"Enter your 8-digit Student ID: \")\n",
        "            if student_id.isdigit() and len(student_id) == 8:\n",
        "                return student_id\n",
        "            else:\n",
        "                print(\"Invalid Student ID. Please enter exactly 8 digits.\")\n",
        "                attempts += 1\n",
        "        print(\"Too many invalid attempts.\")\n",
        "\n",
        "        # Ask if the user wants to continue\n",
        "        again = input(\"Would you like to try entering another student ID? (yes/no): \").strip().lower()\n",
        "        if again != 'yes':\n",
        "            exit()\n",
        "\n",
        "def calculate_market_price(student_id):\n",
        "    last_two_digits_sum = int(student_id[-2]) + int(student_id[-1])\n",
        "    if last_two_digits_sum >= 10:\n",
        "        return last_two_digits_sum\n",
        "    else:\n",
        "        return last_two_digits_sum + 10\n",
        "\n",
        "def calculate_intercept_A(student_id):\n",
        "    first_two_digits = int(student_id[:2])\n",
        "    last_two_digits_reversed = int(student_id[-2:][::-1])\n",
        "    A = abs(first_two_digits - last_two_digits_reversed) + 100\n",
        "    return A\n",
        "\n",
        "def demand_equation(A, Pd):\n",
        "    print(f\"\\nThe formula of demand: Qd = {A} - 2*{Pd}\")\n",
        "    Qd = A - 2 * Pd\n",
        "    return Qd\n",
        "\n",
        "def calculate_total_revenue(Qd, Pd):\n",
        "    TR = Qd * Pd\n",
        "    print(f\"\\nTotal Revenue TR = {int(TR):,}\")\n",
        "    return TR\n",
        "\n",
        "def calculate_new_total_revenue(A, Qd, Pd):\n",
        "    Pd_new = Pd * 1.5\n",
        "    Qd_new = A - 2 * Pd_new\n",
        "    TRn = Qd_new * Pd_new\n",
        "    print(f\"New Total Revenue TRn = {int(TRn):,}\\n\")\n",
        "    return Pd_new, Qd_new, TRn\n",
        "\n",
        "def calculate_elasticity(Qd, Qdn, Pd, Pdn):\n",
        "    percent_change_Q = ((Qdn - Qd) * 100) / Qd\n",
        "    percent_change_P = ((Pdn - Pd) * 100) / Pd\n",
        "    Edp = percent_change_Q / percent_change_P\n",
        "    print(f\"Elasticity of demand by % change method Edp = {abs(Edp):.2f}\")\n",
        "    return Edp\n",
        "\n",
        "def calculate_midpoint_elasticity(Qd, Qdn, Pd, Pdn):\n",
        "    midpoint_Q_denom = (Qd + Qdn) / 2\n",
        "    if midpoint_Q_denom == 0:\n",
        "        print(\"Division by zero encountered in Edm calculation, returning Edm = None.\")\n",
        "        return None\n",
        "\n",
        "    midpoint_Q = (Qdn - Qd) / midpoint_Q_denom\n",
        "\n",
        "    midpoint_P_denom = (Pd + Pdn) / 2\n",
        "    if midpoint_P_denom == 0:\n",
        "        print(\"Division by zero encountered in price calculation. Returning Edm = None.\")\n",
        "        return None\n",
        "\n",
        "    midpoint_P = (Pdn - Pd) / midpoint_P_denom\n",
        "    if midpoint_P == 0:\n",
        "        print(\"Midpoint price change is zero, which means the prices did not change.\")\n",
        "        return 0  # or another appropriate value based on your context\n",
        "\n",
        "    Edm = midpoint_Q / midpoint_P\n",
        "    print(f\"Elasticity of demand by midpoint method Edm = {abs(Edm):.2f}\\n\")\n",
        "    return Edm\n",
        "\n",
        "\n",
        "def determine_elasticity_type(Edm):\n",
        "    if Edm is None:\n",
        "        print(\"\\nIt looks like, we have a Perfect Elasticity of Demand here.\")\n",
        "    elif abs(Edm) > 1:\n",
        "        print(\"The elasticity of demand by midpoint method is elastic.\")\n",
        "    elif abs(Edm) == 1:\n",
        "        print(\"The elasticity of demand by midpoint method has unit elasticity.\")\n",
        "    else:\n",
        "        print(\"The elasticity of demand by midpoint method is inelastic.\")\n",
        "\n",
        "\n",
        "# Main function to execute the steps\n",
        "def main():\n",
        "    while True:\n",
        "        student_id = get_student_id()\n",
        "        Pd = calculate_market_price(student_id)\n",
        "        A = calculate_intercept_A(student_id)\n",
        "        Qd = demand_equation(A, Pd)\n",
        "        TR = calculate_total_revenue(Qd, Pd)\n",
        "        Pd_new, Qdn, TRn = calculate_new_total_revenue(A, Qd, Pd)\n",
        "        Edp = calculate_elasticity(Qd, Qdn, Pd, Pd_new)\n",
        "        Edm = calculate_midpoint_elasticity(Qd, Qdn, Pd, Pd_new)\n",
        "        determine_elasticity_type(Edm)\n",
        "\n",
        "        # Ask if the user wants to process another student ID\n",
        "        again = input(\"\\nWould you like to enter another student ID? (yes/no):\").strip().lower()\n",
        "        if again != 'yes':\n",
        "            print(\"Goodbye!\")\n",
        "            break\n",
        "\n",
        "if __name__ == \"__main__\":\n",
        "    main()\n"
      ]
    }
  ],
  "metadata": {
    "colab": {
      "provenance": [],
      "authorship_tag": "ABX9TyMSuleeuU0cyhEEJjS+4fn7",
      "include_colab_link": true
    },
    "kernelspec": {
      "display_name": "Python 3",
      "name": "python3"
    },
    "language_info": {
      "name": "python"
    }
  },
  "nbformat": 4,
  "nbformat_minor": 0
}