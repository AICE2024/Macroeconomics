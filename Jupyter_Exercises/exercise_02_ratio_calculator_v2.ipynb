{
  "cells": [
    {
      "cell_type": "markdown",
      "metadata": {
        "id": "view-in-github",
        "colab_type": "text"
      },
      "source": [
        "<a href=\"https://colab.research.google.com/github/AICE2024/Macroeconomics/blob/main/exercise_02_ratio_calculator_v2.ipynb\" target=\"_parent\"><img src=\"https://colab.research.google.com/assets/colab-badge.svg\" alt=\"Open In Colab\"/></a>"
      ]
    },
    {
      "cell_type": "markdown",
      "metadata": {
        "id": "7psTLO9v1wCy"
      },
      "source": []
    },
    {
      "cell_type": "markdown",
      "metadata": {
        "id": "QxHaB4Z21z5a"
      },
      "source": [
        "# Welcome to the Ratio Calculator (Unit 02)\n",
        "*   Click the little 'PLAY' icon below!\n",
        "*   Wait\n",
        "*   Enter your 8-digit student ID in the box provided to solve the problem.\n"
      ]
    },
    {
      "cell_type": "code",
      "execution_count": null,
      "metadata": {
        "colab": {
          "background_save": true,
          "base_uri": "https://localhost:8080/"
        },
        "id": "ShbsNXH61qNq",
        "outputId": "a35dab17-679b-4b73-8d1e-9c72f52f51d3"
      },
      "outputs": [
        {
          "name": "stdout",
          "output_type": "stream",
          "text": [
            "  Name  Price Ratio  New Price New Ratio\n",
            "Coffee  75.90   1.9      44.02      0.84\n",
            "   Tea  40.05     -      52.47         -\n",
            "--------------------------------------------------\n",
            "Conclusion: New Ratio is smaller\n",
            "--------------------------------------------------\n"
          ]
        }
      ],
      "source": [
        "# @title 'PLAY' icon here below\n",
        "import pandas as pd\n",
        "\n",
        "def calculate_prices(student_id):\n",
        "    # Extracting the first two and last two digits\n",
        "    coffee_price = int(student_id[:2])\n",
        "    tea_price = int(student_id[-2:])\n",
        "\n",
        "    # Adjusting coffee and tea prices\n",
        "    coffee_price *= 1.15  # Increase by 15%\n",
        "\n",
        "    if tea_price == 0:  # If last two digits are '00'\n",
        "        tea_price = coffee_price * 0.2  # Decrease first two digits by 80%\n",
        "    else:\n",
        "        tea_price *= 0.89  # Decrease by 11%\n",
        "\n",
        "    # Calculate the initial ratio\n",
        "    initial_ratio = coffee_price / tea_price\n",
        "\n",
        "    # Adjust prices again\n",
        "    new_coffee_price = coffee_price * 0.58  # Decrease by 42%\n",
        "    new_tea_price = tea_price * 1.31  # Increase by 31%\n",
        "\n",
        "    # Calculate the new ratio\n",
        "    new_ratio = new_coffee_price / new_tea_price\n",
        "\n",
        "    # Create a DataFrame for tabular display\n",
        "    data = {\n",
        "        'Name': ['Coffee', 'Tea'],\n",
        "        'Price': [round(coffee_price, 2), round(tea_price, 2)],\n",
        "        'Ratio': [round(initial_ratio, 2), '-'],\n",
        "        'New Price': [round(new_coffee_price, 2), round(new_tea_price, 2)],\n",
        "        'New Ratio': [round(new_ratio, 2), '-']\n",
        "    }\n",
        "\n",
        "    result_table = pd.DataFrame(data)\n",
        "    print(result_table.to_string(index=False, line_width=120))\n",
        "\n",
        "    # Display conclusion\n",
        "    conclusion = \"New Ratio is greater\" if new_ratio > initial_ratio else \"New Ratio is smaller\"\n",
        "    print(\"-\" * 50)\n",
        "    print(f\"Conclusion: {conclusion}\")\n",
        "    print(\"-\" * 50)\n",
        "\n",
        "def main():\n",
        "    while True:\n",
        "        student_id = input(\"Please enter your 8-digit student ID: \")\n",
        "\n",
        "        # Check if the student ID is valid (8 digits)\n",
        "        if len(student_id) == 8 and student_id.isdigit():\n",
        "            calculate_prices(student_id)\n",
        "        else:\n",
        "            print(\"Invalid student ID. Please re-enter.\")\n",
        "\n",
        "        # Ask if the user wants to continue\n",
        "        again = input(\"Would you like to enter another student ID? (yes/no): \").strip().lower()\n",
        "        if again != 'yes':\n",
        "            break\n",
        "\n",
        "if __name__ == \"__main__\":\n",
        "    main()\n"
      ]
    }
  ],
  "metadata": {
    "colab": {
      "provenance": [],
      "authorship_tag": "ABX9TyOGc6MUj3imKlCXiASf65cj",
      "include_colab_link": true
    },
    "kernelspec": {
      "display_name": "Python 3",
      "name": "python3"
    },
    "language_info": {
      "name": "python"
    }
  },
  "nbformat": 4,
  "nbformat_minor": 0
}
