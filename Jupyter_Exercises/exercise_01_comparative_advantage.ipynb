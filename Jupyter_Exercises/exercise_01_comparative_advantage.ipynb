{
  "cells": [
    {
      "cell_type": "markdown",
      "metadata": {
        "id": "view-in-github",
        "colab_type": "text"
      },
      "source": [
        "<a href=\"https://colab.research.google.com/github/AICE2024/Macroeconomics/blob/main/exercise_01_comparative_advantage.ipynb\" target=\"_parent\"><img src=\"https://colab.research.google.com/assets/colab-badge.svg\" alt=\"Open In Colab\"/></a>"
      ]
    },
    {
      "cell_type": "markdown",
      "metadata": {
        "id": "Wq4Jr0m7KP1Y"
      },
      "source": [
        "# Welcome to the Absolute and Comparative Advantage Calculator! (Unit 01)\n",
        "*   Click the little 'PLAY' icon below!\n",
        "*   Wait\n",
        "*   Enter your 8-digit student ID in the box provided to solve your problem.\n",
        "*   List item\n"
      ]
    },
    {
      "cell_type": "code",
      "execution_count": null,
      "metadata": {
        "cellView": "form",
        "colab": {
          "background_save": true,
          "base_uri": "https://localhost:8080/"
        },
        "id": "OEtOqI6ZKOie",
        "outputId": "25e0fc18-630b-4763-bbec-854d307c9ba0"
      },
      "outputs": [
        {
          "name": "stdout",
          "output_type": "stream",
          "text": [
            "\n",
            "Production Possibility Table:\n",
            "+-----------+---------------------+---------------------+\n",
            "| Country   | Coffee Production   | Tea Production      |\n",
            "+-----------+---------------------+---------------------+\n",
            "| Country A | 13                  | 53                  |\n",
            "+-----------+---------------------+---------------------+\n",
            "| Country B | 31                  | 35                  |\n",
            "+-----------+---------------------+---------------------+\n",
            "\n",
            "Country B has an absolute advantage in Coffee production.\n",
            "Country A has an absolute advantage in Tea production.\n",
            "\n",
            "Opportunity Cost Table:\n",
            "+-----------+---------------------+---------------------+\n",
            "| Country   | Coffee (1 unit)     | Tea (1 unit)        |\n",
            "+-----------+---------------------+---------------------+\n",
            "| Country A | 4.08                | 0.25                |\n",
            "+-----------+---------------------+---------------------+\n",
            "| Country B | 1.13                | 0.89                |\n",
            "+-----------+---------------------+---------------------+\n",
            "\n",
            "Country B has a comparative advantage in producing Coffee because the opportunity cost of making 1 unit of coffee for Country B is 1.13, which is lower than the opportunity cost for Country A.\n",
            "Country A has a comparative advantage in producing Tea because the opportunity cost of making 1 unit of tea for Country A is 0.25, which is lower than the opportunity cost for Country B.\n"
          ]
        }
      ],
      "source": [
        "# @title 'PLAY' icon here below\n",
        "# @\n",
        "# Just on the \"PLAY\" icon here below, wait, enter student's ID, wait , see the results\n",
        "def calculate_production_possibility(student_id):\n",
        "    # Extract digits for Country A\n",
        "    first_two_digits = int(student_id[:2])\n",
        "    last_two_digits = int(student_id[-2:])\n",
        "\n",
        "    # Calculate coffee production using absolute difference\n",
        "    coffee_a = abs(first_two_digits - last_two_digits)\n",
        "    # Tea production is simply the last two digits\n",
        "    tea_a = last_two_digits\n",
        "\n",
        "    # Calculate reversed digits for Country B\n",
        "    coffee_b = int(str(coffee_a).zfill(2)[::-1])\n",
        "    tea_b = int(str(tea_a).zfill(2)[::-1])\n",
        "\n",
        "    return coffee_a, tea_a, coffee_b, tea_b\n",
        "\n",
        "def calculate_opportunity_cost(coffee, tea):\n",
        "    return tea / coffee, coffee / tea\n",
        "\n",
        "def print_tables_and_results(coffee_a, tea_a, coffee_b, tea_b):\n",
        "    # Table 1: Production Possibility with Borders\n",
        "    print(\"\\nProduction Possibility Table:\")\n",
        "    print(\"+-----------+---------------------+---------------------+\")\n",
        "    print(f\"| {'Country':<9} | {'Coffee Production':<19} | {'Tea Production':<19} |\")\n",
        "    print(\"+-----------+---------------------+---------------------+\")\n",
        "    print(f\"| {'Country A':<9} | {coffee_a:<19} | {tea_a:<19} |\")\n",
        "    print(f\"+-----------+---------------------+---------------------+\")\n",
        "    print(f\"| {'Country B':<9} | {coffee_b:<19} | {tea_b:<19} |\")\n",
        "    print(\"+-----------+---------------------+---------------------+\")\n",
        "\n",
        "    # Absolute Advantage\n",
        "    if coffee_a > coffee_b:\n",
        "        print(\"\\nCountry A has an absolute advantage in Coffee production.\")\n",
        "    else:\n",
        "        print(\"\\nCountry B has an absolute advantage in Coffee production.\")\n",
        "\n",
        "    if tea_a > tea_b:\n",
        "        print(\"Country A has an absolute advantage in Tea production.\")\n",
        "    else:\n",
        "        print(\"Country B has an absolute advantage in Tea production.\")\n",
        "\n",
        "    # Opportunity Cost Calculation\n",
        "    oc_a_coffee, oc_a_tea = calculate_opportunity_cost(coffee_a, tea_a)\n",
        "    oc_b_coffee, oc_b_tea = calculate_opportunity_cost(coffee_b, tea_b)\n",
        "\n",
        "    # Table 2: Opportunity Cost with Borders\n",
        "    print(\"\\nOpportunity Cost Table:\")\n",
        "    print(\"+-----------+---------------------+---------------------+\")\n",
        "    print(f\"| {'Country':<9} | {'Coffee (1 unit)':<19} | {'Tea (1 unit)':<19} |\")\n",
        "    print(\"+-----------+---------------------+---------------------+\")\n",
        "    print(f\"| {'Country A':<9} | {oc_a_coffee:<19.2f} | {oc_a_tea:<19.2f} |\")\n",
        "    print(f\"+-----------+---------------------+---------------------+\")\n",
        "    print(f\"| {'Country B':<9} | {oc_b_coffee:<19.2f} | {oc_b_tea:<19.2f} |\")\n",
        "    print(\"+-----------+---------------------+---------------------+\")\n",
        "\n",
        "    # Comparative Advantage\n",
        "    if oc_a_coffee < oc_b_coffee:\n",
        "        print(f\"\\nCountry A has a comparative advantage in producing Coffee because the opportunity cost of making 1 unit of coffee for Country A is {oc_a_coffee:.2f}, which is lower than the opportunity cost for Country B.\")\n",
        "    else:\n",
        "        print(f\"\\nCountry B has a comparative advantage in producing Coffee because the opportunity cost of making 1 unit of coffee for Country B is {oc_b_coffee:.2f}, which is lower than the opportunity cost for Country A.\")\n",
        "\n",
        "    if oc_a_tea < oc_b_tea:\n",
        "        print(f\"Country A has a comparative advantage in producing Tea because the opportunity cost of making 1 unit of tea for Country A is {oc_a_tea:.2f}, which is lower than the opportunity cost for Country B.\")\n",
        "    else:\n",
        "        print(f\"Country B has a comparative advantage in producing Tea because the opportunity cost of making 1 unit of tea for Country B is {oc_b_tea:.2f}, which is lower than the opportunity cost for Country A.\")\n",
        "\n",
        "def main():\n",
        "    while True:\n",
        "        student_id = input(\"\\nEnter your 8-digit student ID: \")\n",
        "\n",
        "        if len(student_id) != 8 or not student_id.isdigit():\n",
        "            print(\"Invalid input! Please enter exactly 8 digits.\")\n",
        "            continue\n",
        "\n",
        "        coffee_a, tea_a, coffee_b, tea_b = calculate_production_possibility(student_id)\n",
        "        print_tables_and_results(coffee_a, tea_a, coffee_b, tea_b)\n",
        "\n",
        "        # Ask the user if they want to enter another ID\n",
        "        repeat = input(\"\\nDo you want to enter another ID? (yes/no): \").strip().lower()\n",
        "        if repeat != 'yes':\n",
        "            print(\"Exiting the program. Goodbye!\")\n",
        "            break\n",
        "\n",
        "if __name__ == \"__main__\":\n",
        "    main()\n"
      ]
    }
  ],
  "metadata": {
    "colab": {
      "provenance": [],
      "authorship_tag": "ABX9TyOVguyTvW+NkwOLnZuBe38N",
      "include_colab_link": true
    },
    "kernelspec": {
      "display_name": "Python 3",
      "name": "python3"
    },
    "language_info": {
      "name": "python"
    }
  },
  "nbformat": 4,
  "nbformat_minor": 0
}
