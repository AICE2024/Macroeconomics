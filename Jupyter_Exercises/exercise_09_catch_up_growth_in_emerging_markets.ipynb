{
  "cells": [
    {
      "cell_type": "markdown",
      "metadata": {
        "id": "view-in-github",
        "colab_type": "text"
      },
      "source": [
        "<a href=\"https://colab.research.google.com/github/AICE2024/Macroeconomics/blob/main/exercise_09_catch_up_growth_in_emerging_markets.ipynb\" target=\"_parent\"><img src=\"https://colab.research.google.com/assets/colab-badge.svg\" alt=\"Open In Colab\"/></a>"
      ]
    },
    {
      "cell_type": "markdown",
      "metadata": {
        "id": "1KeUUJheu2lg"
      },
      "source": [
        "# Catch-up Growth in Emerging Markets (Unit 06)\n",
        "*   Click the little 'PLAY' icon below!\n",
        "*   Wait\n",
        "*   Enter your 8-digit student ID in the box provided to solve the problem.\n",
        "\n"
      ]
    },
    {
      "cell_type": "code",
      "execution_count": null,
      "metadata": {
        "colab": {
          "background_save": true,
          "base_uri": "https://localhost:8080/"
        },
        "id": "J2AODwGEuk0e",
        "cellView": "form",
        "outputId": "e38a9c00-1dda-409d-f34d-663675a15a49"
      },
      "outputs": [
        {
          "output_type": "stream",
          "name": "stdout",
          "text": [
            "State your student ID: 66110003\n",
            "\n",
            "Student ID after replacing 0s: 66111113\n",
            "Last 4 digits reduced to single digit: 6\n",
            "Last 2 digits reduced to single digit: 4\n",
            "SM (Smaller number): 4\n",
            "LG (Larger number): 6\n",
            "\n",
            "It will take approximately 48.10 years for Country B to catch up to Country A's GDP per capita.\n"
          ]
        }
      ],
      "source": [
        "# @title 'PLAY' icon here below\n",
        "import math\n",
        "import os\n",
        "\n",
        "# Function to replace all '0' with '1' in a number string\n",
        "def replace_zero_with_one(num_str):\n",
        "    return num_str.replace('0', '1')\n",
        "\n",
        "# Function to reduce a number to a single digit by summing its digits\n",
        "def reduce_to_single_digit(num_str):\n",
        "    num = sum(int(digit) for digit in num_str)  # Sum all digits\n",
        "    while num >= 10:  # Keep reducing until a single digit\n",
        "        num = sum(int(digit) for digit in str(num))\n",
        "    return num\n",
        "\n",
        "# Function to get a valid 8-digit student ID\n",
        "def get_valid_student_id():\n",
        "    attempts = 3  # Maximum attempts allowed\n",
        "    for _ in range(attempts):\n",
        "        student_id = input(\"State your student ID: \").strip()\n",
        "        if student_id.isdigit() and len(student_id) == 8:\n",
        "            return student_id\n",
        "        print(\"Invalid input! Student ID must be exactly 8 digits.\")\n",
        "    print(\"Too many invalid attempts. Exiting.\")\n",
        "    exit()\n",
        "\n",
        "# Function to calculate the years it takes for Country B to catch up to Country A\n",
        "def calculate_years_to_catch_up(GDP_A, GDP_B, growth_rate_A, growth_rate_B):\n",
        "    # Using the compound growth formula to solve for t with natural logarithms (ln):\n",
        "    # t = ln(GDP_f / GDP_p) / ln(1 + r)\n",
        "    t = math.log(GDP_A / GDP_B) / (math.log(1 + growth_rate_B ) - math.log(1 + growth_rate_A))\n",
        "    return t\n",
        "\n",
        "# Main function that runs the entire process\n",
        "def main():\n",
        "    while True:\n",
        "        # Get valid student ID from user\n",
        "        student_id = get_valid_student_id()\n",
        "\n",
        "        # Replace all '0's with '1's in the student ID\n",
        "        modified_student_id = replace_zero_with_one(student_id)\n",
        "\n",
        "        # Extract last 4 digits and last 2 digits from modified ID\n",
        "        last_4_student = modified_student_id[-4:]\n",
        "        last_2_student = modified_student_id[-2:]\n",
        "\n",
        "        # Reduce student ID's last 4 and last 2 digits to single digits\n",
        "        student_4_reduced = reduce_to_single_digit(last_4_student)\n",
        "        student_2_reduced = reduce_to_single_digit(last_2_student)\n",
        "\n",
        "        # Determine SM (smaller) and LG (larger) values\n",
        "        SM = min(student_4_reduced, student_2_reduced)\n",
        "        LG = max(student_4_reduced, student_2_reduced)\n",
        "\n",
        "        # Print the results for the student ID\n",
        "        print(f\"\\nStudent ID after replacing 0s: {modified_student_id}\")\n",
        "        print(f\"Last 4 digits reduced to single digit: {student_4_reduced}\")\n",
        "        print(f\"Last 2 digits reduced to single digit: {student_2_reduced}\")\n",
        "        print(f\"SM (Smaller number): {SM}\")\n",
        "        print(f\"LG (Larger number): {LG}\")\n",
        "\n",
        "        # Given values\n",
        "        GDP_A = 50000  # GDP per capita of Country A\n",
        "        GDP_B = 20000  # GDP per capita of Country B\n",
        "        growth_rate_A = SM / 100  # Convert SM to percentage\n",
        "        growth_rate_B = LG / 100  # Convert LG to percentage\n",
        "\n",
        "        # Calculate the number of years for Country B to catch up to Country A's GDP\n",
        "        years_to_catch_up = calculate_years_to_catch_up(GDP_A, GDP_B, growth_rate_A, growth_rate_B)\n",
        "\n",
        "        # Print the result\n",
        "        print(f\"\\nIt will take approximately {years_to_catch_up:.2f} years for Country B to catch up to Country A's GDP per capita.\")\n",
        "\n",
        "        # Ask if the user wants to enter another ID\n",
        "        repeat = input(\"\\nWould you like to enter another student ID? (yes/no): \").strip().lower()\n",
        "        if repeat != 'yes':\n",
        "            print(\"Goodbye!\")\n",
        "            os.system('cls' if os.name == 'nt' else 'clear')  # Clear screen based on OS\n",
        "            break  # Exit the loop\n",
        "\n",
        "# Run the main function\n",
        "main()\n"
      ]
    }
  ],
  "metadata": {
    "colab": {
      "provenance": [],
      "include_colab_link": true
    },
    "kernelspec": {
      "display_name": "Python 3",
      "name": "python3"
    },
    "language_info": {
      "name": "python"
    }
  },
  "nbformat": 4,
  "nbformat_minor": 0
}
