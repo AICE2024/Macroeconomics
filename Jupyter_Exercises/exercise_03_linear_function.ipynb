{
  "cells": [
    {
      "cell_type": "markdown",
      "metadata": {
        "id": "view-in-github",
        "colab_type": "text"
      },
      "source": [
        "<a href=\"https://colab.research.google.com/github/AICE2024/Macroeconomics/blob/main/exercise_03_linear_function.ipynb\" target=\"_parent\"><img src=\"https://colab.research.google.com/assets/colab-badge.svg\" alt=\"Open In Colab\"/></a>"
      ]
    },
    {
      "cell_type": "markdown",
      "metadata": {
        "id": "DGfw3tMcGcvL"
      },
      "source": [
        "# Exercise03: Linear Function Verifier! (Unit 02)\n",
        "*   Click the little 'PLAY' icon below!\n",
        "*   Wait\n",
        "*   Enter your 8-digit student ID in the box provided to solve the problem.\n",
        "\n"
      ]
    },
    {
      "cell_type": "code",
      "execution_count": null,
      "metadata": {
        "cellView": "form",
        "colab": {
          "background_save": true,
          "base_uri": "https://localhost:8080/"
        },
        "id": "WOUBV7CqNqAz",
        "outputId": "d72c8bfc-40d2-4919-e4bf-b553ba3efd5b"
      },
      "outputs": [
        {
          "name": "stdout",
          "output_type": "stream",
          "text": [
            "\n",
            "b1 = 5,  y1 = 10 - 5 * x1\n",
            "b2 = 7,  y2 = 1  + 7 * x2\n",
            "\n",
            "E(0.75, 6.25)\n",
            "\n",
            "Area = 3.38 sq units\n",
            "\n"
          ]
        }
      ],
      "source": [
        "# @title 'PLAY' icon here below\n",
        "# @title 'PLAY' icon here below\n",
        "def calculate_digit_sum(number):\n",
        "    return sum(int(digit) for digit in str(number))\n",
        "\n",
        "def main():\n",
        "    while True:\n",
        "        attempts = 0\n",
        "        while attempts < 3:\n",
        "            # Step 1: Enter Student ID\n",
        "            student_id = input(\"Enter your 8-digit Student ID: \")\n",
        "\n",
        "            # Step 2: Check whether it was a correct number (8 digits)\n",
        "            if len(student_id) == 8 and student_id.isdigit():\n",
        "                break\n",
        "            else:\n",
        "                print(\"Error: Student ID must be exactly 8 digits.\")\n",
        "                attempts += 1\n",
        "                if attempts == 3:\n",
        "                    print(\"Too many incorrect attempts. Exiting.\")\n",
        "                    return\n",
        "\n",
        "        # Step 3: Finding b1\n",
        "        first_six_digits = student_id[:6]\n",
        "        sum_first_six = calculate_digit_sum(first_six_digits)\n",
        "        b1 = calculate_digit_sum(sum_first_six)\n",
        "\n",
        "        # Step 4: Finding b2\n",
        "        last_four_digits = student_id[4:]\n",
        "        sum_last_four = calculate_digit_sum(last_four_digits)\n",
        "        b2 = calculate_digit_sum(sum_last_four)\n",
        "\n",
        "        # Step 5: Output y1 and y2\n",
        "        #x1 = 1  # Assuming x1 = 1 for calculation\n",
        "        print (f\"\\nb1 = {b1},  y1 = 10 - {b1} * x1\")\n",
        "        print (f\"b2 = {b2},  y2 = 1  + {b2} * x2\\n\")\n",
        "\n",
        "        # Step 6: Finding the equilibrium point E (xe, ye)\n",
        "        xe = 9 / (b1+b2)  # From the equation 10 - b1*x1 = 1 + b2*x2; 10-1 = b2*x2 + b1*x1; 9 = (b2+b1)*x; x = 9/(b2+b1)\n",
        "        ye = 10 - b1 * xe\n",
        "\n",
        "        print(f\"E({xe:.2f}, {ye:.2f})\\n\")\n",
        "\n",
        "        # Step 7: Finding the area of the triangle formed\n",
        "        y_intercept_y1 = 10  # When x=0, y1 = 10\n",
        "        y_intercept_y2 = 1   # When x=0, y2 = 1\n",
        "\n",
        "        area = ((y_intercept_y1 - y_intercept_y2) * (xe - 0)) / 2\n",
        "        print(f\"Area = {area:.2f} sq units\\n\")\n",
        "\n",
        "        # Ask if the student wants to enter another ID\n",
        "        another_try = input(\"Do you want to enter another ID? (yes/no): \").strip().lower()\n",
        "        if another_try != 'yes':\n",
        "            break\n",
        "\n",
        "if __name__ == \"__main__\":\n",
        "    main()\n"
      ]
    }
  ],
  "metadata": {
    "colab": {
      "provenance": [],
      "authorship_tag": "ABX9TyMDUR/okBXd5peN602mCmpD",
      "include_colab_link": true
    },
    "kernelspec": {
      "display_name": "Python 3",
      "name": "python3"
    },
    "language_info": {
      "name": "python"
    }
  },
  "nbformat": 4,
  "nbformat_minor": 0
}
