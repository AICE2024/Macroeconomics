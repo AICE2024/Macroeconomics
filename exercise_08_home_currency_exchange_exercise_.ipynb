{
  "cells": [
    {
      "cell_type": "markdown",
      "metadata": {
        "id": "view-in-github",
        "colab_type": "text"
      },
      "source": [
        "<a href=\"https://colab.research.google.com/github/AICE2024/Macroeconomics/blob/main/exercise_08_home_currency_exchange_exercise_.ipynb\" target=\"_parent\"><img src=\"https://colab.research.google.com/assets/colab-badge.svg\" alt=\"Open In Colab\"/></a>"
      ]
    },
    {
      "cell_type": "markdown",
      "metadata": {
        "id": "1KeUUJheu2lg"
      },
      "source": [
        "# Currency Exchange Exercise (Unit 06)\n",
        "*   Click the little 'PLAY' icon below!\n",
        "*   Wait\n",
        "*   Enter your 8-digit student ID in the box provided to solve the problem.\n",
        "\n"
      ]
    },
    {
      "cell_type": "code",
      "execution_count": null,
      "metadata": {
        "colab": {
          "background_save": true,
          "base_uri": "https://localhost:8080/"
        },
        "id": "J2AODwGEuk0e",
        "cellView": "form",
        "outputId": "61348cdd-a992-4ecc-e20d-8607b4422745"
      },
      "outputs": [
        {
          "output_type": "stream",
          "name": "stdout",
          "text": [
            "Enter your 8-digit student ID: 66110073\n",
            "First two digits = 66\n",
            "Last two digits = 73\n",
            "Difference = 7\n",
            "Last five digits = 10073\n",
            "Your initial amount of THB: 70,511.00\n",
            "Amount of EUR you can buy: 916.18\n",
            "Amount of USD you can buy: 1,015.46\n",
            "Total THB left after converting leftover EUR and USD: 17,162.37\n",
            "Do you want to calculate with another student ID? (Y/N): y\n",
            "\n",
            "\n",
            "Enter your 8-digit student ID: 66110134\n",
            "First two digits = 66\n",
            "Last two digits = 34\n",
            "Difference = 32\n",
            "Last five digits = 10134\n",
            "Your initial amount of THB: 324,288.00\n",
            "Amount of EUR you can buy: 4,213.61\n",
            "Amount of USD you can buy: 4,670.21\n",
            "Total THB left after converting leftover EUR and USD: 78,931.61\n"
          ]
        }
      ],
      "source": [
        "# @title 'PLAY' icon here below\n",
        "import re\n",
        "\n",
        "def calculate_initial_amount(student_id):\n",
        "    first_two_digits = int(student_id[:2])\n",
        "    print(f\"First two digits = {first_two_digits}\")\n",
        "\n",
        "    last_two_digits = int(student_id[-2:])\n",
        "    print(f\"Last two digits = {last_two_digits}\")\n",
        "\n",
        "    diff = abs(first_two_digits - last_two_digits)\n",
        "    print(f\"Difference = {diff}\")\n",
        "\n",
        "    last_five_digits = int(student_id[-5:])\n",
        "    print(f\"Last five digits = {last_five_digits}\")\n",
        "\n",
        "    initial_amount = diff * last_five_digits\n",
        "    return initial_amount\n",
        "\n",
        "def convert_currency(thb_amount, rate, transaction_fee=0.01):\n",
        "    effective_rate = rate * (1 + transaction_fee)\n",
        "    return thb_amount / effective_rate\n",
        "\n",
        "def convert_back_currency(foreign_amount, rate, transaction_fee=0.01):\n",
        "    effective_rate = rate * (1 - transaction_fee)\n",
        "    return foreign_amount * effective_rate\n",
        "\n",
        "def main():\n",
        "    attempts = 3\n",
        "    while attempts > 0:\n",
        "        student_id = input(\"Enter your 8-digit student ID: \")\n",
        "        if re.match(r\"^\\d{8}$\", student_id):\n",
        "            break\n",
        "        else:\n",
        "            attempts -= 1\n",
        "            print(f\"Invalid input. You have {attempts} attempts left.\")\n",
        "\n",
        "    if attempts == 0:\n",
        "        print(\"Too many invalid attempts. Goodbye!\")\n",
        "        return\n",
        "\n",
        "    initial_thb = calculate_initial_amount(student_id)\n",
        "    print(f\"Your initial amount of THB: {initial_thb:,.2f}\")\n",
        "\n",
        "    # Exchange rates\n",
        "    eur_sell_rate = 38.1000\n",
        "    usd_sell_rate = 34.3750\n",
        "    eur_buy_rate = 37.8500\n",
        "    usd_buy_rate = 34.1332\n",
        "\n",
        "    # Calculate amounts\n",
        "    thb_half = initial_thb / 2\n",
        "    eur_amount = round(convert_currency(thb_half, eur_sell_rate), 2)\n",
        "    usd_amount = round(convert_currency(thb_half, usd_sell_rate), 2)\n",
        "\n",
        "    print(f\"Amount of EUR you can buy: {eur_amount:,.2f}\")\n",
        "    print(f\"Amount of USD you can buy: {usd_amount:,.2f}\")\n",
        "\n",
        "    # Spend amounts\n",
        "    eur_spent = 0.68 * eur_amount\n",
        "    usd_spent = 0.82 * usd_amount\n",
        "\n",
        "    eur_leftover = eur_amount - eur_spent\n",
        "    usd_leftover = usd_amount - usd_spent\n",
        "\n",
        "    thb_from_eur = round(convert_back_currency(eur_leftover, eur_buy_rate), 2)\n",
        "    thb_from_usd = round(convert_back_currency(usd_leftover, usd_buy_rate), 2)\n",
        "\n",
        "    total_thb_left = round(thb_from_eur + thb_from_usd, 2)\n",
        "\n",
        "    print(f\"Total THB left after converting leftover EUR and USD: {total_thb_left:,.2f}\")\n",
        "\n",
        "    # Ask if the user wants to calculate again\n",
        "    while True:\n",
        "        retry = input(\"Do you want to calculate with another student ID? (Y/N): \").strip().lower()\n",
        "        print(\"\")  # Adds a blank line for better spacing\n",
        "        print(\"\")  # Adds a blank line for better spacing\n",
        "        if retry == 'y':\n",
        "            return main()  # Restart the process\n",
        "        elif retry == 'n':\n",
        "            print(\"Goodbye!\")\n",
        "            break\n",
        "        else:\n",
        "            print(\"Invalid input. Please enter Y or N.\")\n",
        "\n",
        "if __name__ == \"__main__\":\n",
        "    main()\n"
      ]
    }
  ],
  "metadata": {
    "colab": {
      "provenance": [],
      "include_colab_link": true
    },
    "kernelspec": {
      "display_name": "Python 3",
      "name": "python3"
    },
    "language_info": {
      "name": "python"
    }
  },
  "nbformat": 4,
  "nbformat_minor": 0
}
